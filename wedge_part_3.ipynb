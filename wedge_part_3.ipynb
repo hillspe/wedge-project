{
 "cells": [
  {
   "cell_type": "code",
   "execution_count": null,
   "metadata": {},
   "outputs": [],
   "source": [
    "#!pip install pandas_gbq"
   ]
  },
  {
   "cell_type": "code",
   "execution_count": 34,
   "metadata": {},
   "outputs": [],
   "source": [
    "import os\n",
    "import pandas as pd\n",
    "import numpy as np\n",
    "import pandas_gbq\n",
    "# Do our imports for the code\n",
    "from google.cloud import bigquery\n",
    "from google.oauth2 import service_account\n",
    "import sqlite3"
   ]
  },
  {
   "cell_type": "code",
   "execution_count": 35,
   "metadata": {},
   "outputs": [
    {
     "name": "stdout",
     "output_type": "stream",
     "text": [
      "umt-msba:dram_shop\n",
      "umt-msba:transactions\n",
      "umt-msba:wedge_example\n",
      "umt-msba:wedge_transactions\n"
     ]
    }
   ],
   "source": [
    "json_credentials_path = r'C:\\Users\\hills\\Documents\\Fall2023\\ADA\\wedge-project\\umt-msba-pin.json'\n",
    "# Set the environment variable\n",
    "os.environ['GOOGLE_APPLICATION_CREDENTIALS'] = json_credentials_path\n",
    "\n",
    "# Initialize the BigQuery client\n",
    "client = bigquery.Client()\n",
    "credentials = service_account.Credentials.from_service_account_file(json_credentials_path)\n",
    "gbq_proj_id = 'umt-msba'\n",
    "\n",
    "for item in client.list_datasets() : \n",
    "    print(item.full_dataset_id)"
   ]
  },
  {
   "cell_type": "code",
   "execution_count": 36,
   "metadata": {},
   "outputs": [],
   "source": [
    "query1=\"\"\"\n",
    "\n",
    "SELECT\n",
    "  DATE(datetime) AS formatted_date,\n",
    "  EXTRACT(hour FROM TIMESTAMP(datetime)) AS hour,\n",
    "  ROUND(SUM(total), 2) AS spend,\n",
    "  COUNT(DISTINCT(CONCAT(EXTRACT(date FROM datetime),register_no,emp_no, trans_no))) AS trans,\n",
    "  SUM(CASE WHEN trans_status in (\"R\", \"V\") THEN -1 ELSE 1 END) AS Items\n",
    "--FROM `umt-msba.transactions.transArchive_201001_201003`\n",
    "FROM `umt-msba.transactions.transArchive_*`\n",
    "WHERE department not in (0, 15) AND\n",
    "(trans_status is null OR\n",
    "trans_status in (\"R\",\"V\", \" \"))\n",
    "GROUP BY formatted_date, hour ORDER BY formatted_date, hour\n",
    "\n",
    "\"\"\""
   ]
  },
  {
   "cell_type": "code",
   "execution_count": 37,
   "metadata": {},
   "outputs": [],
   "source": [
    "# Establishing a connection to the DB or create it if it doesn't exist\n",
    "conn = sqlite3.connect(\"reporting.db\")\n"
   ]
  },
  {
   "cell_type": "code",
   "execution_count": 38,
   "metadata": {},
   "outputs": [
    {
     "name": "stdout",
     "output_type": "stream",
     "text": [
      "Downloading: 100%|\u001b[32m██████████\u001b[0m|\n"
     ]
    }
   ],
   "source": [
    "holder = pandas_gbq.read_gbq(query1,project_id=gbq_proj_id,credentials=credentials)"
   ]
  },
  {
   "cell_type": "code",
   "execution_count": 39,
   "metadata": {},
   "outputs": [
    {
     "data": {
      "text/html": [
       "<div>\n",
       "<style scoped>\n",
       "    .dataframe tbody tr th:only-of-type {\n",
       "        vertical-align: middle;\n",
       "    }\n",
       "\n",
       "    .dataframe tbody tr th {\n",
       "        vertical-align: top;\n",
       "    }\n",
       "\n",
       "    .dataframe thead th {\n",
       "        text-align: right;\n",
       "    }\n",
       "</style>\n",
       "<table border=\"1\" class=\"dataframe\">\n",
       "  <thead>\n",
       "    <tr style=\"text-align: right;\">\n",
       "      <th></th>\n",
       "      <th>formatted_date</th>\n",
       "      <th>hour</th>\n",
       "      <th>spend</th>\n",
       "      <th>trans</th>\n",
       "      <th>Items</th>\n",
       "    </tr>\n",
       "  </thead>\n",
       "  <tbody>\n",
       "    <tr>\n",
       "      <th>0</th>\n",
       "      <td>2010-01-01</td>\n",
       "      <td>9</td>\n",
       "      <td>1006.28</td>\n",
       "      <td>36</td>\n",
       "      <td>245</td>\n",
       "    </tr>\n",
       "    <tr>\n",
       "      <th>1</th>\n",
       "      <td>2010-01-01</td>\n",
       "      <td>10</td>\n",
       "      <td>3128.55</td>\n",
       "      <td>82</td>\n",
       "      <td>913</td>\n",
       "    </tr>\n",
       "    <tr>\n",
       "      <th>2</th>\n",
       "      <td>2010-01-01</td>\n",
       "      <td>11</td>\n",
       "      <td>4001.66</td>\n",
       "      <td>118</td>\n",
       "      <td>1108</td>\n",
       "    </tr>\n",
       "    <tr>\n",
       "      <th>3</th>\n",
       "      <td>2010-01-01</td>\n",
       "      <td>12</td>\n",
       "      <td>3886.51</td>\n",
       "      <td>124</td>\n",
       "      <td>1143</td>\n",
       "    </tr>\n",
       "    <tr>\n",
       "      <th>4</th>\n",
       "      <td>2010-01-01</td>\n",
       "      <td>13</td>\n",
       "      <td>4654.52</td>\n",
       "      <td>154</td>\n",
       "      <td>1365</td>\n",
       "    </tr>\n",
       "  </tbody>\n",
       "</table>\n",
       "</div>"
      ],
      "text/plain": [
       "  formatted_date  hour    spend  trans  Items\n",
       "0     2010-01-01     9  1006.28     36    245\n",
       "1     2010-01-01    10  3128.55     82    913\n",
       "2     2010-01-01    11  4001.66    118   1108\n",
       "3     2010-01-01    12  3886.51    124   1143\n",
       "4     2010-01-01    13  4654.52    154   1365"
      ]
     },
     "execution_count": 39,
     "metadata": {},
     "output_type": "execute_result"
    }
   ],
   "source": [
    "holder.head()"
   ]
  },
  {
   "cell_type": "code",
   "execution_count": 40,
   "metadata": {},
   "outputs": [],
   "source": [
    "holder.to_sql(\"date_hour\",conn,if_exists=\"replace\",index=False)\n"
   ]
  },
  {
   "cell_type": "markdown",
   "metadata": {},
   "source": [
    "2.\tSales by owner by year by month: A file that has the following columns: card_no, year, month, sales, transactions, and items. \n"
   ]
  },
  {
   "cell_type": "code",
   "execution_count": 41,
   "metadata": {},
   "outputs": [],
   "source": [
    "query2 = \"\"\"\n",
    "SELECT\n",
    "  card_no,\n",
    "  EXTRACT(year\n",
    "  FROM\n",
    "    TIMESTAMP(datetime)) AS year,\n",
    "  EXTRACT(month\n",
    "  FROM\n",
    "    TIMESTAMP(datetime)) AS month,\n",
    "  ROUND(SUM(total), 2) AS sales,\n",
    "  COUNT(DISTINCT(CONCAT(EXTRACT(date\n",
    "        FROM\n",
    "          datetime),register_no,emp_no, trans_no))) AS trans,\n",
    "  SUM(CASE\n",
    "      WHEN trans_status IN (\"R\", \"V\") THEN -1\n",
    "    ELSE\n",
    "    1\n",
    "  END\n",
    "    ) AS Items\n",
    "FROM\n",
    "  `umt-msba.transactions.transArchive_*`\n",
    "WHERE\n",
    "  department NOT IN (0,\n",
    "    15)\n",
    "  AND (trans_status IS NULL\n",
    "    OR trans_status IN (\"R\",\n",
    "      \"V\",\n",
    "      \" \"))\n",
    "GROUP BY\n",
    "  card_no,\n",
    "  year,\n",
    "  month\n",
    "ORDER BY\n",
    "  card_no,\n",
    "  year,\n",
    "  month\n",
    "\"\"\""
   ]
  },
  {
   "cell_type": "code",
   "execution_count": 42,
   "metadata": {},
   "outputs": [
    {
     "name": "stdout",
     "output_type": "stream",
     "text": [
      "Downloading: 100%|\u001b[32m██████████\u001b[0m|\n"
     ]
    }
   ],
   "source": [
    "sales_by_owner_by_year_by_month = pandas_gbq.read_gbq(query2, project_id=gbq_proj_id, credentials=credentials)\n",
    "\n",
    "sales_by_owner_by_year_by_month.to_sql(\"sales_by_owner_by_year_by_month\", conn, if_exists=\"replace\", index=False)\n"
   ]
  },
  {
   "cell_type": "markdown",
   "metadata": {},
   "source": [
    "3.\tSales by product description by year by month: A file that has the following columns: upc, description, department number, department name, year, month, sales, transactions, and items."
   ]
  },
  {
   "cell_type": "code",
   "execution_count": 45,
   "metadata": {},
   "outputs": [],
   "source": [
    "query3 = \"\"\"\n",
    "SELECT\n",
    "  t.upc,\n",
    "  t.description,\n",
    "  t.department AS department_number,\n",
    "  dl.dept_name AS department_name,\n",
    "  EXTRACT(year FROM TIMESTAMP(t.datetime)) AS year,\n",
    "  EXTRACT(month FROM TIMESTAMP(t.datetime)) AS month,\n",
    "  ROUND(SUM(t.total), 2) AS sales,\n",
    "  COUNT(DISTINCT(CONCAT(EXTRACT(date FROM datetime),register_no,emp_no, trans_no))) AS trans,\n",
    "  SUM(CASE WHEN trans_status in (\"R\", \"V\") THEN -1 ELSE 1 END) AS Items\n",
    "FROM\n",
    "  `umt-msba.transactions.transArchive_*` AS t\n",
    "JOIN\n",
    "  `umt-msba.transactions.department_lookup` AS dl\n",
    "ON\n",
    "  t.department = dl.department\n",
    "WHERE\n",
    "  t.department NOT IN (0,\n",
    "    15)\n",
    "  AND (trans_status IS NULL\n",
    "    OR trans_status IN (\"R\",\n",
    "      \"V\",\n",
    "      \" \"))\n",
    "GROUP BY\n",
    "  t.upc, t.description, t.department, department_name, year, month\n",
    "ORDER BY\n",
    "  t.upc, year, month\n",
    "\"\"\"\n"
   ]
  },
  {
   "cell_type": "code",
   "execution_count": 46,
   "metadata": {},
   "outputs": [
    {
     "name": "stdout",
     "output_type": "stream",
     "text": [
      "Downloading: 100%|\u001b[32m██████████\u001b[0m|\n"
     ]
    }
   ],
   "source": [
    "sales_by_product_description_by_year_by_month = pandas_gbq.read_gbq(query3, project_id=gbq_proj_id, credentials=credentials)\n",
    "\n",
    "sales_by_product_description_by_year_by_month.to_sql(\"sales_by_product_description_by_year_by_month\", conn, if_exists=\"replace\", index=False)\n"
   ]
  },
  {
   "cell_type": "code",
   "execution_count": 47,
   "metadata": {},
   "outputs": [],
   "source": [
    "#close last\n",
    "conn.close()"
   ]
  }
 ],
 "metadata": {
  "kernelspec": {
   "display_name": "Python 3",
   "language": "python",
   "name": "python3"
  },
  "language_info": {
   "codemirror_mode": {
    "name": "ipython",
    "version": 3
   },
   "file_extension": ".py",
   "mimetype": "text/x-python",
   "name": "python",
   "nbconvert_exporter": "python",
   "pygments_lexer": "ipython3",
   "version": "3.9.5"
  }
 },
 "nbformat": 4,
 "nbformat_minor": 2
}
