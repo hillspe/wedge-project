{
 "cells": [
  {
   "cell_type": "code",
   "execution_count": 1,
   "metadata": {},
   "outputs": [],
   "source": [
    "import os\n",
    "import pandas as pd\n",
    "import pandas_gbq\n",
    "from google.cloud import bigquery"
   ]
  },
  {
   "cell_type": "code",
   "execution_count": 2,
   "metadata": {},
   "outputs": [],
   "source": [
    "#pip install google-cloud-bigquery"
   ]
  },
  {
   "cell_type": "code",
   "execution_count": 7,
   "metadata": {},
   "outputs": [],
   "source": [
    "# Set the path to your JSON credentials file\n",
    "#json_credentials_path = r'C:\\Users\\hills\\Documents\\Fall2023\\ADA\\wedge-project\\umt-msba-gg-key.json'\n",
    "json_credentials_path = r'C:\\Users\\hills\\Documents\\Fall2023\\ADA\\wedge-project\\umt-msba-pin.json'\n",
    "# Set the environment variable\n",
    "os.environ['GOOGLE_APPLICATION_CREDENTIALS'] = json_credentials_path"
   ]
  },
  {
   "cell_type": "code",
   "execution_count": 4,
   "metadata": {},
   "outputs": [],
   "source": [
    "# Initialize the BigQuery client\n",
    "client = bigquery.Client()"
   ]
  },
  {
   "cell_type": "code",
   "execution_count": 11,
   "metadata": {},
   "outputs": [],
   "source": [
    "# Define your SQL query\n",
    "sql_query = \"\"\"\n",
    "WITH rand_cte AS (\n",
    "  SELECT DISTINCT card_no\n",
    "  --FROM `umt-msba.transactions.transArchive_201001_201003`\n",
    "  FROM `umt-msba.transactions.transArchive_*`\n",
    "  WHERE card_no != 3\n",
    "  ORDER BY RAND()\n",
    "  LIMIT 450\n",
    ")\n",
    "\n",
    "SELECT *\n",
    "--FROM `umt-msba.transactions.transArchive_201001_201003` as trans\n",
    "FROM `umt-msba.transactions.transArchive_*` as trans\n",
    "JOIN rand_cte\n",
    "ON rand_cte.card_no = trans.card_no\n",
    "\"\"\"\n",
    "\n",
    "# Run the query and fetch the result\n",
    "query_job = client.query(sql_query)\n",
    "results = query_job.result()\n",
    "\n",
    "# Export the results to a Pandas DataFrame (you can choose another format if needed)\n",
    "df = results.to_dataframe()\n",
    "\n",
    "# Now, you have the result dataset in the 'df' DataFrame\n",
    "# You can save it to a CSV file or process it as needed\n",
    "df.to_csv(\"data/result_dataset_task2.csv\", index=False)"
   ]
  }
 ],
 "metadata": {
  "kernelspec": {
   "display_name": "Python 3",
   "language": "python",
   "name": "python3"
  },
  "language_info": {
   "codemirror_mode": {
    "name": "ipython",
    "version": 3
   },
   "file_extension": ".py",
   "mimetype": "text/x-python",
   "name": "python",
   "nbconvert_exporter": "python",
   "pygments_lexer": "ipython3",
   "version": "3.9.5"
  }
 },
 "nbformat": 4,
 "nbformat_minor": 2
}
